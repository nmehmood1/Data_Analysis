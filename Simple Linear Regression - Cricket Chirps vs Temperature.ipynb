{
 "cells": [
  {
   "cell_type": "code",
   "execution_count": null,
   "metadata": {
    "collapsed": false
   },
   "outputs": [],
   "source": [
    "# Simple EDA and linear regression on small, relatively clean, 2 variable dataset exploring the relationship between crickets\n",
    "# chirping (chirps/sec)\n",
    "# and the temperature.\n",
    "# I will be importing the .csv into a Pandas dataframe and creating new headings as well as converting the temperature column\n",
    "# to Celsius instead of farenheit.\n",
    "\n",
    "# Hypothesis: The chirping frequency of crickets depends on the temperature\n",
    "# Null hypothesis: There is no relationship between the temperature and the chirp frequency of crickets\n",
    "\n",
    "#Dependent variable: Y is the chirp frequency of the triped ground cricket\n",
    "#Independent variable: X is the temperature\n",
    "\n",
    "import pandas as pd\n",
    "import numpy as np\n",
    "import matplotlib.pyplot as plt\n",
    "\n",
    "\n",
    "columnNames = ['Temp','Chirps'] # New column names to replace X and Y\n",
    "df = pd.read_csv('C:\\\\Users\\\\navm1_000\\\\Documents\\\\Career stuff\\\\Datasets\\\\crickets.csv') # Importing csv\n",
    "df.columns = columnNames # Replacing column names\n",
    "df['Temp'].apply(lambda x: (x-32) * 5/9); #Converting farenheit to celcius\n",
    "x_vals,y_vals = df['Temp'],df['Chirps']\n",
    "\n",
    "print(df.describe())\n",
    "R = np.corrcoef(x_vals,y_vals)[1,0] # Pearson R value\n",
    "print(R)\n",
    "rSquared= R**2\n",
    "print(rSquared)\n",
    "\n",
    "plt.scatter(x_vals,y_vals)\n",
    "plt.title('Temperature vs Chirps per Second')\n",
    "plt.xlabel('Temperature (C)')\n",
    "plt.ylabel('Chirps / s')\n",
    "\n",
    "a,b = np.polyfit(x_vals,y_vals,1)\n",
    "\n",
    "xTheor = np.array([x_vals.min(),x_vals.max()])\n",
    "yTheor = a*xTheor + b\n",
    "\n",
    "plt.plot(xTheor,yTheor,color='k')\n",
    "plt.show()\n",
    "\n",
    "\n",
    "\n",
    "\n",
    "\n",
    "\n"
   ]
  },
  {
   "cell_type": "code",
   "execution_count": 6,
   "metadata": {
    "collapsed": false
   },
   "outputs": [
    {
     "name": "stdout",
     "output_type": "stream",
     "text": [
      "            Temp     Chirps\n",
      "count  15.000000  15.000000\n",
      "mean   26.688889  16.653333\n",
      "std     3.726295   1.702044\n",
      "min    20.777779  14.400000\n",
      "25%    24.305556  15.450000\n",
      "50%    26.999999  16.200001\n",
      "75%    28.555556  17.150001\n",
      "max    34.055557  20.000000\n"
     ]
    },
    {
     "data": {
      "image/png": "[encoded data removed]",
      "text/plain": [
       "<matplotlib.figure.Figure at 0x2a2d57c5a58>"
      ]
     },
     "metadata": {},
     "output_type": "display_data"
    },
    {
     "name": "stdout",
     "output_type": "stream",
     "text": [
      "R-Squared = 0.697465145017\n",
      "p = 0.000106671854996\n"
     ]
    }
   ],
   "source": [
    "# Simple EDA and linear regression on small, relatively clean, 2 variable dataset exploring the relationship between crickets\n",
    "# chirping (chirps/sec)\n",
    "# and the temperature.\n",
    "# I have imported the .csv into a Pandas dataframe and created new headings as well as converting the temperature column\n",
    "# to Celsius instead of Farenheit.\n",
    "\n",
    "# Hypothesis: The chirping frequency of crickets depends on the temperature\n",
    "# Null hypothesis: There is no relationship between the temperature and the chirp frequency of crickets\n",
    "\n",
    "# Dependent variable: Y is the chirp frequency of the triped ground cricket\n",
    "# Independent variable: X is the temperature\n",
    "\n",
    "import pandas as pd\n",
    "import numpy as np\n",
    "from scipy import stats\n",
    "import matplotlib.pyplot as plt\n",
    "import seaborn as sns\n",
    "sns.set()\n",
    "\n",
    "\n",
    "columnNames = ['Temp','Chirps'] # New column names to replace X and Y\n",
    "df = pd.read_csv('C:\\\\Users\\\\navm1_000\\\\Documents\\\\Career stuff\\\\Datasets\\\\crickets.csv') # Importing csv\n",
    "df.columns = columnNames # Replacing column names\n",
    "df['Temp'] = df['Temp'].apply(lambda x: (x-32) * 5/9); #Converting farenheit to celcius\n",
    "x_vals,y_vals = df['Temp'],df['Chirps']\n",
    "\n",
    "print(df.describe()) # print summary statistics\n",
    "\n",
    "\n",
    "plt.scatter(x_vals,y_vals) # scatter plot\n",
    "plt.title('Chirps per Second vs Temperature')\n",
    "plt.xlabel('Temperature (C)')\n",
    "plt.ylabel('Chirps / s')\n",
    "plt.savefig('linregPlot.png')\n",
    "\n",
    "\n",
    "slope, intercept, r_value, p_value, std_err = stats.linregress(x_vals, y_vals)\n",
    "\n",
    "\n",
    "xTheor = np.array([x_vals.min(),x_vals.max()])\n",
    "yTheor = slope*xTheor + intercept\n",
    "\n",
    "plt.plot(xTheor,yTheor,color='k')\n",
    "plt.show()\n",
    "\n",
    "print(\"R-Squared = \" + str(r_value**2))\n",
    "print(\"p = \" + str(p_value))\n"
   ]
  },
  {
   "cell_type": "code",
   "execution_count": null,
   "metadata": {
    "collapsed": true
   },
   "outputs": [],
   "source": []
  },
  {
   "cell_type": "code",
   "execution_count": null,
   "metadata": {
    "collapsed": true
   },
   "outputs": [],
   "source": []
  }
 ],
 "metadata": {
  "kernelspec": {
   "display_name": "Python 3",
   "language": "python",
   "name": "python3"
  },
  "language_info": {
   "codemirror_mode": {
    "name": "ipython",
    "version": 3
   },
   "file_extension": ".py",
   "mimetype": "text/x-python",
   "name": "python",
   "nbconvert_exporter": "python",
   "pygments_lexer": "ipython3",
   "version": "3.6.0"
  }
 },
 "nbformat": 4,
 "nbformat_minor": 2
}
