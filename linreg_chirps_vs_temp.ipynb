{
 "cells": [
  {
   "cell_type": "code",
   "execution_count": null,
   "metadata": {
    "collapsed": true
   },
   "outputs": [],
   "source": [
    "# Simple EDA and linear regression on small, relatively clean, 2 variable dataset exploring the relationship between crickets\n",
    "# chirping (chirps/sec)\n",
    "# and the temperature.\n",
    "# I have imported the .csv into a Pandas dataframe and created new headings as well as converting the temperature column\n",
    "# to Celsius instead of Farenheit.\n",
    "\n",
    "# Hypothesis: The chirping frequency of crickets depends on the temperature\n",
    "# Null hypothesis: There is no relationship between the temperature and the chirp frequency of crickets\n",
    "\n",
    "# Dependent variable: Y is the chirp frequency of the triped ground cricket\n",
    "# Independent variable: X is the temperature\n",
    "\n",
    "import pandas as pd\n",
    "import numpy as np\n",
    "from scipy import stats\n",
    "import matplotlib.pyplot as plt\n",
    "import seaborn as sns\n",
    "sns.set()\n",
    "\n",
    "\n",
    "columnNames = ['Temp','Chirps'] # New column names to replace X and Y\n",
    "df = pd.read_csv('crickets.csv') # Importing csv\n",
    "df.columns = columnNames # Replacing column names\n",
    "df['Temp'] = df['Temp'].apply(lambda x: (x-32) * 5/9); #Converting farenheit to celcius\n",
    "x_vals,y_vals = df['Temp'],df['Chirps']\n",
    "\n",
    "print(df.describe()) # print summary statistics\n",
    "\n",
    "\n",
    "plt.scatter(x_vals,y_vals) # scatter plot\n",
    "plt.title('Chirps per Second vs Temperature')\n",
    "plt.xlabel('Temperature (C)')\n",
    "plt.ylabel('Chirps / s')\n",
    "plt.savefig('linregPlot.png')\n",
    "\n",
    "\n",
    "slope, intercept, r_value, p_value, std_err = stats.linregress(x_vals, y_vals)\n",
    "\n",
    "\n",
    "xTheor = np.array([x_vals.min(),x_vals.max()])\n",
    "yTheor = slope*xTheor + intercept\n",
    "\n",
    "plt.plot(xTheor,yTheor,color='k')\n",
    "plt.show()\n",
    "\n",
    "print(\"R-Squared = \" + str(r_value**2))\n",
    "print(\"p = \" + str(p_value))\n"
   ]
  }
 ],
 "metadata": {
  "kernelspec": {
   "display_name": "Python 3",
   "language": "python",
   "name": "python3"
  },
  "language_info": {
   "codemirror_mode": {
    "name": "ipython",
    "version": 3
   },
   "file_extension": ".py",
   "mimetype": "text/x-python",
   "name": "python",
   "nbconvert_exporter": "python",
   "pygments_lexer": "ipython3",
   "version": "3.6.0"
  }
 },
 "nbformat": 4,
 "nbformat_minor": 2
}
